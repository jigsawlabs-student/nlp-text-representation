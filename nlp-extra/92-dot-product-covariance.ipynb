{
 "cells": [
  {
   "cell_type": "markdown",
   "metadata": {},
   "source": [
    "* Algebraically \n",
    "    * $a^T b = a_db_d = \\sum a_ib_i $"
   ]
  },
  {
   "cell_type": "markdown",
   "metadata": {},
   "source": [
    "* Dot product as covariance \n",
    "    * Remember that covariance is that as increase in one dimension, in document A\n",
    "    * We have increase in same dimension in doc B\n",
    "    \n"
   ]
  },
  {
   "cell_type": "markdown",
   "metadata": {},
   "source": [
    "* Geometrically \n",
    "    * And geometrically, we can think of the dot product as length of projection of a onto b\n",
    "   * Highest if a and b point in the same direction\n",
    "   \n",
    "   \n",
    "* In terms of text\n",
    "   * In terms of text, only have perpendicular vectors if no overlap between words in vector A and B\n",
    "   \n",
    "* And if point in same direction, then exactly same words in same proportion"
   ]
  },
  {
   "cell_type": "markdown",
   "metadata": {},
   "source": [
    "* Geometric\n",
    "    * $|a||b|cos \\theta$\n",
    "    * And if these are normalized, then dot product is same as the cosine (because |a| = |b| = 1."
   ]
  },
  {
   "cell_type": "markdown",
   "metadata": {},
   "source": [
    "* And the dot product is related to euclidean distance as well "
   ]
  },
  {
   "cell_type": "markdown",
   "metadata": {},
   "source": [
    "Also note that if have binary members, then dot product is the same thing as set intersection "
   ]
  },
  {
   "cell_type": "code",
   "execution_count": null,
   "metadata": {},
   "outputs": [],
   "source": []
  }
 ],
 "metadata": {
  "kernelspec": {
   "display_name": "Python 3",
   "language": "python",
   "name": "python3"
  },
  "language_info": {
   "codemirror_mode": {
    "name": "ipython",
    "version": 3
   },
   "file_extension": ".py",
   "mimetype": "text/x-python",
   "name": "python",
   "nbconvert_exporter": "python",
   "pygments_lexer": "ipython3",
   "version": "3.7.4"
  }
 },
 "nbformat": 4,
 "nbformat_minor": 4
}
