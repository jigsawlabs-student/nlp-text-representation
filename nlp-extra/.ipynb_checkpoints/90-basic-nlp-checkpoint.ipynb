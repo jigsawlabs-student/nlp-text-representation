{
 "cells": [
  {
   "cell_type": "markdown",
   "metadata": {},
   "source": [
    "### Bag of words"
   ]
  },
  {
   "cell_type": "markdown",
   "metadata": {},
   "source": [
    "* If we have two documents, and want to judge the similarity, could start by just having a histogram of the words\n",
    "\n",
    "1. Count up related words\n",
    "2. Other words that are not helpful\n",
    "    * Stop words - Of course there are some words that we want to exclude (to, the, have, are in, a, the ) - but no topical content here."
   ]
  },
  {
   "cell_type": "markdown",
   "metadata": {},
   "source": [
    "* But bag of words, means that only captures exactly those words\n",
    "* And what if there are similar words, but not complete overlap"
   ]
  },
  {
   "cell_type": "markdown",
   "metadata": {},
   "source": [
    "[bag of words](https://www.youtube.com/watch?v=KIT-LbvNt_I&list=PLBv09BD7ez_77rla9ZYx-OAdgo2r9USm4)"
   ]
  },
  {
   "cell_type": "markdown",
   "metadata": {},
   "source": [
    "### Vector space words in bag of words"
   ]
  },
  {
   "cell_type": "markdown",
   "metadata": {},
   "source": [
    "* Words are vectors, queries are vectors, and documents are vectors\n",
    "* Try to embed all of these in the same vector space\n",
    "\n",
    "1. Try to figure out what the dimensions are going to be (basis vectors)\n",
    "2. How do project these words/documents/queries to that space\n",
    "3. Then how do we measure distance\n",
    "\n"
   ]
  },
  {
   "cell_type": "markdown",
   "metadata": {},
   "source": [
    "### How this works"
   ]
  },
  {
   "cell_type": "markdown",
   "metadata": {},
   "source": [
    "<img src=\"./vector-space-words.png\">"
   ]
  },
  {
   "cell_type": "markdown",
   "metadata": {},
   "source": [
    "So plot each of the documents in terms of this dimensional space, and then we get a query."
   ]
  },
  {
   "cell_type": "markdown",
   "metadata": {},
   "source": [
    "So query may be cat, cat, lion, dog, dog."
   ]
  },
  {
   "cell_type": "markdown",
   "metadata": {},
   "source": [
    "So now, to match query to document can look at euclidean distance, or look at the angles between vectors."
   ]
  },
  {
   "cell_type": "markdown",
   "metadata": {},
   "source": [
    "### Problems with this \n",
    "Dimensions\n",
    "    1. Use individual words as dimensions in there \n",
    "    * But problem is that if each is orthogonal, and not correlated, but words are dependent.\n",
    "    2. Dimensionality of space will be very large\n",
    "        \n"
   ]
  },
  {
   "cell_type": "markdown",
   "metadata": {},
   "source": []
  }
 ],
 "metadata": {
  "kernelspec": {
   "display_name": "Python 3",
   "language": "python",
   "name": "python3"
  },
  "language_info": {
   "codemirror_mode": {
    "name": "ipython",
    "version": 3
   },
   "file_extension": ".py",
   "mimetype": "text/x-python",
   "name": "python",
   "nbconvert_exporter": "python",
   "pygments_lexer": "ipython3",
   "version": "3.7.3"
  }
 },
 "nbformat": 4,
 "nbformat_minor": 2
}
